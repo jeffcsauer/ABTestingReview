{
 "cells": [
  {
   "cell_type": "markdown",
   "id": "3e26752e",
   "metadata": {},
   "source": [
    "# Introduction\n",
    "\n",
    "Simply put, A/B Testing is a conceptual framework used to compare the effects of an exposure on two or more groups of individuals. This conceptual framework is commonly used in data science workflow to answer an experimental question. For example, \n",
    "\n",
    "> _Do users spend more time on the application when presented with an in-application engagement opportunity?_\n",
    "\n",
    "We can imagine several types of engagement opportunities that might be deployed, ranging from a small token, new prompt, notification, and more.\n",
    "\n",
    "A/B Testing, in and of itself, is **not** a statistical method. Rather, it defines a conceptual framework of steps used to determine if an exposure has an effect on a population. It employs specific statistical concepts, such as measures of central tendency and variation as well as hypothesis testing, to determine if a exposure produces an effect."
   ]
  },
  {
   "cell_type": "markdown",
   "id": "5ad16e58",
   "metadata": {},
   "source": [
    "# Review of simple probability "
   ]
  },
  {
   "cell_type": "code",
   "execution_count": 164,
   "id": "88037cc7",
   "metadata": {
    "scrolled": true
   },
   "outputs": [
    {
     "name": "stdout",
     "output_type": "stream",
     "text": [
      "0.1\n"
     ]
    }
   ],
   "source": [
    "events_control = 10\n",
    "total_control = 100\n",
    "prob_control = events_control/total_control\n",
    "print(prob_control)"
   ]
  },
  {
   "cell_type": "code",
   "execution_count": 165,
   "id": "57e39e54",
   "metadata": {},
   "outputs": [
    {
     "name": "stdout",
     "output_type": "stream",
     "text": [
      "0.030000000000000002\n"
     ]
    }
   ],
   "source": [
    "# Binomial distribution for binary events\n",
    "binomial_mean = events_control/total_control # equivalent to probability \n",
    "binomial_std = np.sqrt(((binomial_mean*(1-binomial_mean))/total_control))\n",
    "print(binomial_std)\n"
   ]
  },
  {
   "cell_type": "code",
   "execution_count": 168,
   "id": "de995105",
   "metadata": {},
   "outputs": [
    {
     "name": "stdout",
     "output_type": "stream",
     "text": [
      "10.0\n",
      "90.0\n"
     ]
    }
   ],
   "source": [
    "# TO use normal, check n*p\n",
    "print(total_control * prob_control)\n",
    "print(total_control * (1-prob_control))"
   ]
  },
  {
   "cell_type": "code",
   "execution_count": 169,
   "id": "a0aca420",
   "metadata": {
    "scrolled": true
   },
   "outputs": [
    {
     "name": "stdout",
     "output_type": "stream",
     "text": [
      "100.0\n",
      "900.0\n",
      "0.009486832980505138\n",
      "-0.018594192641790068\n",
      "0.018594192641790068\n"
     ]
    }
   ],
   "source": [
    "x = 100\n",
    "N = 1000\n",
    "p_hat = x/N\n",
    "\n",
    "print(N*p_hat)\n",
    "print(N*(1-p_hat))\n",
    "\n",
    "SE = np.sqrt((p_hat*(1-p_hat))/N)\n",
    "print(SE)\n",
    "\n",
    "print(-1.96*SE)\n",
    "print(1.96*SE)"
   ]
  },
  {
   "cell_type": "code",
   "execution_count": 176,
   "id": "b8310819",
   "metadata": {},
   "outputs": [
    {
     "data": {
      "text/plain": [
       "1.959963984540054"
      ]
     },
     "execution_count": 176,
     "metadata": {},
     "output_type": "execute_result"
    }
   ],
   "source": [
    "# norm ppf for a one-sided t-test, so we need to incrase to \n",
    "# 0.975 to represent 0.025 on one side (or 0.05 for two side)\n",
    "scs.norm.ppf(0.975)"
   ]
  },
  {
   "cell_type": "code",
   "execution_count": 203,
   "id": "7ad921f0",
   "metadata": {},
   "outputs": [],
   "source": [
    "def synthetic_data(p_A, p_B, n_A, n_B):\n",
    "    \n",
    "    # A\n",
    "    K = round(n_A*(1-p_A))\n",
    "    a_arr = np.array([0] * K + [1] * (n_A-K))\n",
    "    np.random.shuffle(a_arr)\n",
    "    \n",
    "    # B\n",
    "    K = round(n_B*(1-p_B))\n",
    "    b_arr = np.array([0] * K + [1] * (n_B-K))\n",
    "    np.random.shuffle(b_arr)\n",
    "    \n",
    "    # Organize into dataframe\n",
    "    df = pd.DataFrame({'Control': a_arr,\n",
    "                       'Test': b_arr})\n",
    "        \n",
    "    return df"
   ]
  },
  {
   "cell_type": "code",
   "execution_count": 216,
   "id": "2dab695d",
   "metadata": {},
   "outputs": [],
   "source": [
    "testdf = synthetic_data(0.10, 0.15, 1000, 1000)"
   ]
  },
  {
   "cell_type": "code",
   "execution_count": 217,
   "id": "11c23507",
   "metadata": {},
   "outputs": [
    {
     "data": {
      "text/html": [
       "<div>\n",
       "<style scoped>\n",
       "    .dataframe tbody tr th:only-of-type {\n",
       "        vertical-align: middle;\n",
       "    }\n",
       "\n",
       "    .dataframe tbody tr th {\n",
       "        vertical-align: top;\n",
       "    }\n",
       "\n",
       "    .dataframe thead th {\n",
       "        text-align: right;\n",
       "    }\n",
       "</style>\n",
       "<table border=\"1\" class=\"dataframe\">\n",
       "  <thead>\n",
       "    <tr style=\"text-align: right;\">\n",
       "      <th></th>\n",
       "      <th>Control</th>\n",
       "      <th>Test</th>\n",
       "    </tr>\n",
       "  </thead>\n",
       "  <tbody>\n",
       "    <tr>\n",
       "      <th>0</th>\n",
       "      <td>0</td>\n",
       "      <td>0</td>\n",
       "    </tr>\n",
       "    <tr>\n",
       "      <th>1</th>\n",
       "      <td>0</td>\n",
       "      <td>0</td>\n",
       "    </tr>\n",
       "    <tr>\n",
       "      <th>2</th>\n",
       "      <td>0</td>\n",
       "      <td>1</td>\n",
       "    </tr>\n",
       "    <tr>\n",
       "      <th>3</th>\n",
       "      <td>0</td>\n",
       "      <td>0</td>\n",
       "    </tr>\n",
       "    <tr>\n",
       "      <th>4</th>\n",
       "      <td>0</td>\n",
       "      <td>1</td>\n",
       "    </tr>\n",
       "    <tr>\n",
       "      <th>...</th>\n",
       "      <td>...</td>\n",
       "      <td>...</td>\n",
       "    </tr>\n",
       "    <tr>\n",
       "      <th>995</th>\n",
       "      <td>0</td>\n",
       "      <td>0</td>\n",
       "    </tr>\n",
       "    <tr>\n",
       "      <th>996</th>\n",
       "      <td>0</td>\n",
       "      <td>0</td>\n",
       "    </tr>\n",
       "    <tr>\n",
       "      <th>997</th>\n",
       "      <td>0</td>\n",
       "      <td>0</td>\n",
       "    </tr>\n",
       "    <tr>\n",
       "      <th>998</th>\n",
       "      <td>0</td>\n",
       "      <td>0</td>\n",
       "    </tr>\n",
       "    <tr>\n",
       "      <th>999</th>\n",
       "      <td>0</td>\n",
       "      <td>0</td>\n",
       "    </tr>\n",
       "  </tbody>\n",
       "</table>\n",
       "<p>1000 rows × 2 columns</p>\n",
       "</div>"
      ],
      "text/plain": [
       "     Control  Test\n",
       "0          0     0\n",
       "1          0     0\n",
       "2          0     1\n",
       "3          0     0\n",
       "4          0     1\n",
       "..       ...   ...\n",
       "995        0     0\n",
       "996        0     0\n",
       "997        0     0\n",
       "998        0     0\n",
       "999        0     0\n",
       "\n",
       "[1000 rows x 2 columns]"
      ]
     },
     "execution_count": 217,
     "metadata": {},
     "output_type": "execute_result"
    }
   ],
   "source": [
    "testdf"
   ]
  },
  {
   "cell_type": "code",
   "execution_count": 222,
   "id": "61f78aca",
   "metadata": {
    "scrolled": true
   },
   "outputs": [
    {
     "data": {
      "text/html": [
       "<div>\n",
       "<style scoped>\n",
       "    .dataframe tbody tr th:only-of-type {\n",
       "        vertical-align: middle;\n",
       "    }\n",
       "\n",
       "    .dataframe tbody tr th {\n",
       "        vertical-align: top;\n",
       "    }\n",
       "\n",
       "    .dataframe thead th {\n",
       "        text-align: right;\n",
       "    }\n",
       "</style>\n",
       "<table border=\"1\" class=\"dataframe\">\n",
       "  <thead>\n",
       "    <tr style=\"text-align: right;\">\n",
       "      <th></th>\n",
       "      <th>Group</th>\n",
       "      <th>Conversion</th>\n",
       "    </tr>\n",
       "  </thead>\n",
       "  <tbody>\n",
       "    <tr>\n",
       "      <th>0</th>\n",
       "      <td>Control</td>\n",
       "      <td>0</td>\n",
       "    </tr>\n",
       "    <tr>\n",
       "      <th>1</th>\n",
       "      <td>Control</td>\n",
       "      <td>0</td>\n",
       "    </tr>\n",
       "    <tr>\n",
       "      <th>2</th>\n",
       "      <td>Control</td>\n",
       "      <td>0</td>\n",
       "    </tr>\n",
       "    <tr>\n",
       "      <th>3</th>\n",
       "      <td>Control</td>\n",
       "      <td>0</td>\n",
       "    </tr>\n",
       "    <tr>\n",
       "      <th>4</th>\n",
       "      <td>Control</td>\n",
       "      <td>0</td>\n",
       "    </tr>\n",
       "    <tr>\n",
       "      <th>...</th>\n",
       "      <td>...</td>\n",
       "      <td>...</td>\n",
       "    </tr>\n",
       "    <tr>\n",
       "      <th>1995</th>\n",
       "      <td>Test</td>\n",
       "      <td>0</td>\n",
       "    </tr>\n",
       "    <tr>\n",
       "      <th>1996</th>\n",
       "      <td>Test</td>\n",
       "      <td>0</td>\n",
       "    </tr>\n",
       "    <tr>\n",
       "      <th>1997</th>\n",
       "      <td>Test</td>\n",
       "      <td>0</td>\n",
       "    </tr>\n",
       "    <tr>\n",
       "      <th>1998</th>\n",
       "      <td>Test</td>\n",
       "      <td>0</td>\n",
       "    </tr>\n",
       "    <tr>\n",
       "      <th>1999</th>\n",
       "      <td>Test</td>\n",
       "      <td>0</td>\n",
       "    </tr>\n",
       "  </tbody>\n",
       "</table>\n",
       "<p>2000 rows × 2 columns</p>\n",
       "</div>"
      ],
      "text/plain": [
       "        Group  Conversion\n",
       "0     Control           0\n",
       "1     Control           0\n",
       "2     Control           0\n",
       "3     Control           0\n",
       "4     Control           0\n",
       "...       ...         ...\n",
       "1995     Test           0\n",
       "1996     Test           0\n",
       "1997     Test           0\n",
       "1998     Test           0\n",
       "1999     Test           0\n",
       "\n",
       "[2000 rows x 2 columns]"
      ]
     },
     "execution_count": 222,
     "metadata": {},
     "output_type": "execute_result"
    }
   ],
   "source": [
    "testdf_long = testdf.melt()\n",
    "testdf_long.columns = ['Group', 'Conversion']\n",
    "testdf_long"
   ]
  },
  {
   "cell_type": "code",
   "execution_count": null,
   "id": "877fb854",
   "metadata": {},
   "outputs": [],
   "source": []
  }
 ],
 "metadata": {
  "kernelspec": {
   "display_name": "Python 3 (ipykernel)",
   "language": "python",
   "name": "python3"
  },
  "language_info": {
   "codemirror_mode": {
    "name": "ipython",
    "version": 3
   },
   "file_extension": ".py",
   "mimetype": "text/x-python",
   "name": "python",
   "nbconvert_exporter": "python",
   "pygments_lexer": "ipython3",
   "version": "3.9.13"
  }
 },
 "nbformat": 4,
 "nbformat_minor": 5
}
